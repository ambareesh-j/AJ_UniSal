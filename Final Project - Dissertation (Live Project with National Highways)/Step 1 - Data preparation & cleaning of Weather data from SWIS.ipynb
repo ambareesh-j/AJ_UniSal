{
    "metadata": {
        "kernelspec": {
            "name": "python3",
            "display_name": "Python 3",
            "language": "python"
        },
        "language_info": {
            "name": "python",
            "version": "3.8.10",
            "mimetype": "text/x-python",
            "codemirror_mode": {
                "name": "ipython",
                "version": 3
            },
            "pygments_lexer": "ipython3",
            "nbconvert_exporter": "python",
            "file_extension": ".py"
        }
    },
    "nbformat_minor": 2,
    "nbformat": 4,
    "cells": [
        {
            "cell_type": "markdown",
            "source": [
                "**1\\. Environment Setup**\n",
                "\n",
                "- Import the necessary python libraries\n",
                "- Ignore warnings\n",
                "- File path setup"
            ],
            "metadata": {
                "azdata_cell_guid": "69f6df65-440c-4331-8a2a-e845a00a518e"
            },
            "attachments": {}
        },
        {
            "cell_type": "code",
            "source": [
                "import glob             # File path & directory \r\n",
                "import pandas as pd     # Data manipulation & analysis\r\n",
                "import numpy as np      # Multi-dimensional arrays and Numerical computation\r\n",
                "\r\n",
                "import warnings         # Warnings\r\n",
                "warnings.filterwarnings(\"ignore\")"
            ],
            "metadata": {
                "azdata_cell_guid": "a056e6bf-cd68-41ec-b592-ad1fb3f7d062",
                "language": "python"
            },
            "outputs": [],
            "execution_count": 3
        },
        {
            "cell_type": "code",
            "source": [
                "# Azure VM switch (Code runs from inside the Azure VM)\r\n",
                "VM = 0\r\n",
                "\r\n",
                "filepath = r'C:\\Users\\ajonnavittula\\OneDrive - Highways England\\Project Work\\Datasets' if VM == 1 else r'C:\\Users\\jonnaa\\OneDrive - Highways England\\Project Work\\Datasets'"
            ],
            "metadata": {
                "language": "python",
                "azdata_cell_guid": "5ffe84b1-0b6f-407d-b9ed-46e6963ff033"
            },
            "outputs": [],
            "execution_count": 8
        },
        {
            "cell_type": "markdown",
            "source": [
                "**2\\. Locate the Weather files & store the path+file into a .txt file**\n",
                "\n",
                "- Create a text file with the list of all the weather-based files stored in .csv format"
            ],
            "metadata": {
                "azdata_cell_guid": "4a936a03-8e34-4820-b6f4-c1e9a4bc93d6"
            },
            "attachments": {}
        },
        {
            "cell_type": "code",
            "source": [
                "# Files where the Weather data is stored by Year/Date\r\n",
                "path = ( filepath + '\\Weather\\Daily')\r\n",
                "\r\n",
                "# Fetch all .csv files in the given path\r\n",
                "list1 = []\r\n",
                "for files in glob.glob(path + '\\*\\*.csv'):\r\n",
                "    list1.append(files.replace('\\\\', '/'))\r\n",
                "\r\n",
                "print('Total files found: ', len(list1))\r\n",
                "print(list1[0:5])\r\n",
                "\r\n",
                "#Store the data into a .txt file to use/validate later\r\n",
                "\r\n",
                "#open text file\r\n",
                "text_file = open(path + \"/Glob_List.txt\", \"w\")\r\n",
                "\r\n",
                "for item in list1:\r\n",
                "    #write string to file\r\n",
                "    text_file.write(item + '\\n')\r\n",
                " \r\n",
                "#close file\r\n",
                "text_file.close()"
            ],
            "metadata": {
                "azdata_cell_guid": "9d8d1d97-0c3a-4b52-8103-5aff32f0910b",
                "tags": [],
                "language": "python"
            },
            "outputs": [
                {
                    "name": "stdout",
                    "text": "Total files found:  729\n['C:/Users/jonnaa/OneDrive - Highways England/Project Work/Datasets/Weather/Daily/2018/2018_01_01.csv', 'C:/Users/jonnaa/OneDrive - Highways England/Project Work/Datasets/Weather/Daily/2018/2018_01_02.csv', 'C:/Users/jonnaa/OneDrive - Highways England/Project Work/Datasets/Weather/Daily/2018/2018_01_03.csv', 'C:/Users/jonnaa/OneDrive - Highways England/Project Work/Datasets/Weather/Daily/2018/2018_01_04.csv', 'C:/Users/jonnaa/OneDrive - Highways England/Project Work/Datasets/Weather/Daily/2018/2018_01_05.csv']\n",
                    "output_type": "stream"
                }
            ],
            "execution_count": 9
        },
        {
            "cell_type": "markdown",
            "source": [
                "**3\\. Open each file, perform filtering, grouping and save the individual .csv files**\n",
                "\n",
                "- For each file in the list, open and extract required columns\n",
                "    - Group by RadarID and Timestamp (to extract date), aggregate using mean, median, min and max values rounded by 2 decimal places\n",
                "    - Extract date from each timestamp and rename the column as Date\n",
                "    - Replace NaN values with nulls and reset the index\n",
                "    - Append the data to a dataframe\n",
                "- Drop the redundant dataframes"
            ],
            "metadata": {
                "azdata_cell_guid": "2295e6f8-f682-4da1-9361-b26438c7ba1b"
            },
            "attachments": {}
        },
        {
            "cell_type": "code",
            "source": [
                "# Initialize a dataframe - initial weather extract\r\n",
                "df_weather_init = pd.DataFrame()\r\n",
                "\r\n",
                "# Weather files Open & Perform Filtering\r\n",
                "for file in list1:\r\n",
                "\r\n",
                "    # Weather data\r\n",
                "    df_weather_raw = []\r\n",
                "    df_weather_raw = pd.read_csv(file)\r\n",
                "    df_weather_raw = df_weather_raw[['Timestamp', 'Present_Weather', 'Air_Temp', 'Average_Wind_Speed', \\\r\n",
                "                                'Wind_Direction', 'Wind_Gust_Speed', 'Wind_Gust_Direction', \\\r\n",
                "                                'Rain_Intensity', 'RadarID']]\r\n",
                "    df_grp = df_weather_raw.groupby(['RadarID', df_weather_raw['Timestamp'].str.split(' ',expand=True)[0]]) \\\r\n",
                "                            .agg({'Present_Weather': ['mean', 'median', 'min', 'max'] , 'Air_Temp': ['mean', 'median', 'min', 'max'], \\\r\n",
                "                                'Average_Wind_Speed': ['mean', 'median', 'min', 'max'], 'Wind_Direction': ['mean', 'median', 'min', 'max'], \\\r\n",
                "                                'Wind_Gust_Speed': ['mean', 'median', 'min', 'max'], 'Wind_Gust_Direction': ['mean', 'median', 'min', 'max'], \\\r\n",
                "                                'Rain_Intensity': ['mean', 'median', 'min', 'max']}) \\\r\n",
                "                            .round(2) \\\r\n",
                "                            .replace(np.nan, '') \\\r\n",
                "                            .reset_index() \r\n",
                "    df_grp = df_grp.rename(columns={df_grp.columns[1][0]: 'Date'})\r\n",
                "    df_weather_init = df_weather_init.append(df_grp)\r\n",
                "\r\n",
                "    # df_grp.to_csv('C:/Users/ajonnavittula/OneDrive - Highways England/Desktop/Datasets/Weather/Condensed/' + file[-14:]) \r\n",
                "    del df_weather_raw , df_grp\r\n",
                "\r\n",
                "df_weather_init.head(5)\r\n",
                ""
            ],
            "metadata": {
                "azdata_cell_guid": "8bb9e22d-a534-4e72-91d6-c997810defce",
                "tags": [],
                "language": "python"
            },
            "outputs": [
                {
                    "output_type": "execute_result",
                    "execution_count": 2,
                    "data": {
                        "text/plain": "  RadarID        Date Present_Weather                     Air_Temp         \\\n                                 mean median   min    max     mean median   \n0   10000  2018-01-01           94.17  100.0  50.0  100.0     4.49    4.6   \n1   10001  2018-01-01           99.65  100.0  50.0  100.0     4.04    4.2   \n2   10002  2018-01-01                                          3.1   3.25   \n3   10003  2018-01-01                                         4.94    5.0   \n4   10004  2018-01-01            99.1  100.0  50.0  100.0     4.66    4.3   \n\n             ... Wind_Gust_Speed        Wind_Gust_Direction              \\\n   min  max  ...             min    max                mean median  min   \n0  1.9  6.4  ...            2.52  35.64              252.82  295.5  1.0   \n1  1.7  6.1  ...            8.28  48.96               281.7  284.0  7.0   \n2  1.0  5.6  ...            3.96  42.48                                   \n3  2.7  7.6  ...            2.52  28.44              244.24  301.0  0.0   \n4  3.1  8.0  ...            0.36   19.8              146.19  121.0  1.0   \n\n         Rain_Intensity                    \n     max           mean median  min   max  \n0  357.0           0.03    0.0  0.0  0.75  \n1  343.0            0.0    0.0  0.0  0.44  \n2                   0.0    0.0  0.0   0.0  \n3  357.0           0.18    0.0  0.0  7.44  \n4  349.0           0.01    0.0  0.0  0.57  \n\n[5 rows x 30 columns]",
                        "text/html": "<div>\n<style scoped>\n    .dataframe tbody tr th:only-of-type {\n        vertical-align: middle;\n    }\n\n    .dataframe tbody tr th {\n        vertical-align: top;\n    }\n\n    .dataframe thead tr th {\n        text-align: left;\n    }\n</style>\n<table border=\"1\" class=\"dataframe\">\n  <thead>\n    <tr>\n      <th></th>\n      <th>RadarID</th>\n      <th>Date</th>\n      <th colspan=\"4\" halign=\"left\">Present_Weather</th>\n      <th colspan=\"4\" halign=\"left\">Air_Temp</th>\n      <th>...</th>\n      <th colspan=\"2\" halign=\"left\">Wind_Gust_Speed</th>\n      <th colspan=\"4\" halign=\"left\">Wind_Gust_Direction</th>\n      <th colspan=\"4\" halign=\"left\">Rain_Intensity</th>\n    </tr>\n    <tr>\n      <th></th>\n      <th></th>\n      <th></th>\n      <th>mean</th>\n      <th>median</th>\n      <th>min</th>\n      <th>max</th>\n      <th>mean</th>\n      <th>median</th>\n      <th>min</th>\n      <th>max</th>\n      <th>...</th>\n      <th>min</th>\n      <th>max</th>\n      <th>mean</th>\n      <th>median</th>\n      <th>min</th>\n      <th>max</th>\n      <th>mean</th>\n      <th>median</th>\n      <th>min</th>\n      <th>max</th>\n    </tr>\n  </thead>\n  <tbody>\n    <tr>\n      <th>0</th>\n      <td>10000</td>\n      <td>2018-01-01</td>\n      <td>94.17</td>\n      <td>100.0</td>\n      <td>50.0</td>\n      <td>100.0</td>\n      <td>4.49</td>\n      <td>4.6</td>\n      <td>1.9</td>\n      <td>6.4</td>\n      <td>...</td>\n      <td>2.52</td>\n      <td>35.64</td>\n      <td>252.82</td>\n      <td>295.5</td>\n      <td>1.0</td>\n      <td>357.0</td>\n      <td>0.03</td>\n      <td>0.0</td>\n      <td>0.0</td>\n      <td>0.75</td>\n    </tr>\n    <tr>\n      <th>1</th>\n      <td>10001</td>\n      <td>2018-01-01</td>\n      <td>99.65</td>\n      <td>100.0</td>\n      <td>50.0</td>\n      <td>100.0</td>\n      <td>4.04</td>\n      <td>4.2</td>\n      <td>1.7</td>\n      <td>6.1</td>\n      <td>...</td>\n      <td>8.28</td>\n      <td>48.96</td>\n      <td>281.7</td>\n      <td>284.0</td>\n      <td>7.0</td>\n      <td>343.0</td>\n      <td>0.0</td>\n      <td>0.0</td>\n      <td>0.0</td>\n      <td>0.44</td>\n    </tr>\n    <tr>\n      <th>2</th>\n      <td>10002</td>\n      <td>2018-01-01</td>\n      <td></td>\n      <td></td>\n      <td></td>\n      <td></td>\n      <td>3.1</td>\n      <td>3.25</td>\n      <td>1.0</td>\n      <td>5.6</td>\n      <td>...</td>\n      <td>3.96</td>\n      <td>42.48</td>\n      <td></td>\n      <td></td>\n      <td></td>\n      <td></td>\n      <td>0.0</td>\n      <td>0.0</td>\n      <td>0.0</td>\n      <td>0.0</td>\n    </tr>\n    <tr>\n      <th>3</th>\n      <td>10003</td>\n      <td>2018-01-01</td>\n      <td></td>\n      <td></td>\n      <td></td>\n      <td></td>\n      <td>4.94</td>\n      <td>5.0</td>\n      <td>2.7</td>\n      <td>7.6</td>\n      <td>...</td>\n      <td>2.52</td>\n      <td>28.44</td>\n      <td>244.24</td>\n      <td>301.0</td>\n      <td>0.0</td>\n      <td>357.0</td>\n      <td>0.18</td>\n      <td>0.0</td>\n      <td>0.0</td>\n      <td>7.44</td>\n    </tr>\n    <tr>\n      <th>4</th>\n      <td>10004</td>\n      <td>2018-01-01</td>\n      <td>99.1</td>\n      <td>100.0</td>\n      <td>50.0</td>\n      <td>100.0</td>\n      <td>4.66</td>\n      <td>4.3</td>\n      <td>3.1</td>\n      <td>8.0</td>\n      <td>...</td>\n      <td>0.36</td>\n      <td>19.8</td>\n      <td>146.19</td>\n      <td>121.0</td>\n      <td>1.0</td>\n      <td>349.0</td>\n      <td>0.01</td>\n      <td>0.0</td>\n      <td>0.0</td>\n      <td>0.57</td>\n    </tr>\n  </tbody>\n</table>\n<p>5 rows × 30 columns</p>\n</div>"
                    },
                    "metadata": {}
                }
            ],
            "execution_count": 2
        },
        {
            "cell_type": "markdown",
            "source": [
                "**4\\. Merge the location names by RadarID and give column aliases**\n",
                "\n",
                "- Import ESS location names (Radar ID location name) and merge with previously created dataframe\n",
                "- Drop redundant columns and apply column aliases"
            ],
            "metadata": {
                "azdata_cell_guid": "ddeec34a-1bb9-4403-88ff-ca068883c0c7"
            },
            "attachments": {}
        },
        {
            "cell_type": "code",
            "source": [
                "# Raw file to staging file\r\n",
                "df_weather = df_weather_init\r\n",
                "\r\n",
                "# Import Location Names \r\n",
                "df_Locations = pd.read_csv (filepath + 'SWIS_Locations/ESS locations.csv')\r\n",
                "df_Locations = df_Locations.iloc[:,0:2]\r\n",
                "\r\n",
                "# Merge the location names with Radar IDs\r\n",
                "df_weather = pd.merge(df_weather, df_Locations,  how='left', left_on=['RadarID'], right_on = ['ObsPointESSId'])\r\n",
                "\r\n",
                "# Drop unnecessary columns\r\n",
                "df_weather = df_weather.drop('ObsPointESSId', 1)\r\n",
                "\r\n",
                "# Column aliases\r\n",
                "df_weather.columns = ['RadarID', 'Date', \\\r\n",
                "                      'Present_Weather_Mean', 'Present_Weather_Median', 'Present_Weather_Min', 'Present_Weather_Max', \\\r\n",
                "                      'Air_Temp_Mean', 'Air_Temp_Median', 'Air_Temp_Min', 'Air_Temp_Max', \\\r\n",
                "                      'Average_Wind_Speed_Mean', 'Average_Wind_Speed_Median', 'Average_Wind_Speed_Min', 'Average_Wind_Speed_Max', \\\r\n",
                "                      'Wind_Direction_Mean', 'Wind_Direction_Median', 'Wind_Direction_Min', 'Wind_Direction_Max', \\\r\n",
                "                      'Wind_Gust_Mean', 'Wind_Gust_Median', 'Wind_Gust_Min', 'Wind_Gust_Max', \\\r\n",
                "                      'Wind_Gust_Direction_Mean', 'Wind_Gust_Direction_Median', 'Wind_Gust_Direction_Min', 'Wind_Gust_Direction_Max', \\\r\n",
                "                      'Rain_Intensity_Mean', 'Rain_Intensity_Median', 'Rain_Intensity_Min', 'Rain_Intensity_Max', \\\r\n",
                "                       'ESS_Location']\r\n",
                "\r\n",
                "df_weather.head(3)"
            ],
            "metadata": {
                "azdata_cell_guid": "b870fdfb-6aca-4d73-ac93-977e5aff5dae",
                "tags": [],
                "language": "python"
            },
            "outputs": [
                {
                    "output_type": "execute_result",
                    "execution_count": 6,
                    "data": {
                        "text/plain": "   RadarID        Date Present_Weather_Mean Present_Weather_Median  \\\n0    10000  2018-01-01                94.17                  100.0   \n1    10001  2018-01-01                99.65                  100.0   \n2    10002  2018-01-01                                               \n\n  Present_Weather_Min Present_Weather_Max Air_Temp_Mean Air_Temp_Median  \\\n0                50.0               100.0          4.49             4.6   \n1                50.0               100.0          4.04             4.2   \n2                                                   3.1            3.25   \n\n  Air_Temp_Min Air_Temp_Max  ... Wind_Gust_Max Wind_Gust_Direction_Mean  \\\n0          1.9          6.4  ...         35.64                   252.82   \n1          1.7          6.1  ...         48.96                    281.7   \n2          1.0          5.6  ...         42.48                            \n\n  Wind_Gust_Direction_Median Wind_Gust_Direction_Min Wind_Gust_Direction_Max  \\\n0                      295.5                     1.0                   357.0   \n1                      284.0                     7.0                   343.0   \n2                                                                              \n\n  Rain_Intensity_Mean Rain_Intensity_Median Rain_Intensity_Min  \\\n0                0.03                   0.0                0.0   \n1                 0.0                   0.0                0.0   \n2                 0.0                   0.0                0.0   \n\n  Rain_Intensity_Max             ESS_Location  \n0               0.75         A1 - Stannington  \n1               0.44          A1 - Rosebrough  \n2                0.0  A696 - Raechester - LHA  \n\n[3 rows x 31 columns]",
                        "text/html": "<div>\n<style scoped>\n    .dataframe tbody tr th:only-of-type {\n        vertical-align: middle;\n    }\n\n    .dataframe tbody tr th {\n        vertical-align: top;\n    }\n\n    .dataframe thead th {\n        text-align: right;\n    }\n</style>\n<table border=\"1\" class=\"dataframe\">\n  <thead>\n    <tr style=\"text-align: right;\">\n      <th></th>\n      <th>RadarID</th>\n      <th>Date</th>\n      <th>Present_Weather_Mean</th>\n      <th>Present_Weather_Median</th>\n      <th>Present_Weather_Min</th>\n      <th>Present_Weather_Max</th>\n      <th>Air_Temp_Mean</th>\n      <th>Air_Temp_Median</th>\n      <th>Air_Temp_Min</th>\n      <th>Air_Temp_Max</th>\n      <th>...</th>\n      <th>Wind_Gust_Max</th>\n      <th>Wind_Gust_Direction_Mean</th>\n      <th>Wind_Gust_Direction_Median</th>\n      <th>Wind_Gust_Direction_Min</th>\n      <th>Wind_Gust_Direction_Max</th>\n      <th>Rain_Intensity_Mean</th>\n      <th>Rain_Intensity_Median</th>\n      <th>Rain_Intensity_Min</th>\n      <th>Rain_Intensity_Max</th>\n      <th>ESS_Location</th>\n    </tr>\n  </thead>\n  <tbody>\n    <tr>\n      <th>0</th>\n      <td>10000</td>\n      <td>2018-01-01</td>\n      <td>94.17</td>\n      <td>100.0</td>\n      <td>50.0</td>\n      <td>100.0</td>\n      <td>4.49</td>\n      <td>4.6</td>\n      <td>1.9</td>\n      <td>6.4</td>\n      <td>...</td>\n      <td>35.64</td>\n      <td>252.82</td>\n      <td>295.5</td>\n      <td>1.0</td>\n      <td>357.0</td>\n      <td>0.03</td>\n      <td>0.0</td>\n      <td>0.0</td>\n      <td>0.75</td>\n      <td>A1 - Stannington</td>\n    </tr>\n    <tr>\n      <th>1</th>\n      <td>10001</td>\n      <td>2018-01-01</td>\n      <td>99.65</td>\n      <td>100.0</td>\n      <td>50.0</td>\n      <td>100.0</td>\n      <td>4.04</td>\n      <td>4.2</td>\n      <td>1.7</td>\n      <td>6.1</td>\n      <td>...</td>\n      <td>48.96</td>\n      <td>281.7</td>\n      <td>284.0</td>\n      <td>7.0</td>\n      <td>343.0</td>\n      <td>0.0</td>\n      <td>0.0</td>\n      <td>0.0</td>\n      <td>0.44</td>\n      <td>A1 - Rosebrough</td>\n    </tr>\n    <tr>\n      <th>2</th>\n      <td>10002</td>\n      <td>2018-01-01</td>\n      <td></td>\n      <td></td>\n      <td></td>\n      <td></td>\n      <td>3.1</td>\n      <td>3.25</td>\n      <td>1.0</td>\n      <td>5.6</td>\n      <td>...</td>\n      <td>42.48</td>\n      <td></td>\n      <td></td>\n      <td></td>\n      <td></td>\n      <td>0.0</td>\n      <td>0.0</td>\n      <td>0.0</td>\n      <td>0.0</td>\n      <td>A696 - Raechester - LHA</td>\n    </tr>\n  </tbody>\n</table>\n<p>3 rows × 31 columns</p>\n</div>"
                    },
                    "metadata": {}
                }
            ],
            "execution_count": 6
        },
        {
            "cell_type": "markdown",
            "source": [
                "**5\\. Time Intelligence to aggregate parameters based on last 48 hours, 96 hours, 1 week, and fortnight**\n",
                "\n",
                "- As part of the transformation, apply necessary datatypes on the Date field and replace nulls with zeros to avoid errors. \n",
                "- Sort the dataframe by RadarID and date\n",
                "- Group by RadarID and apply aggregation on the columns with the last 48 hr, 96 hr, 1 week and 2 week ranges, and round off by 3 decimal places"
            ],
            "metadata": {
                "azdata_cell_guid": "1696ff6f-e6f6-4da7-a44c-43ff75a080a0"
            },
            "attachments": {}
        },
        {
            "cell_type": "code",
            "source": [
                "# Necessary Transformations\r\n",
                "df_weather.Date = df_weather.Date.astype('datetime64')\r\n",
                "df_weather.Rain_Intensity_Mean = df_weather.Rain_Intensity_Mean.replace('', 0)\r\n",
                "df_weather.Rain_Intensity_Max = df_weather.Rain_Intensity_Max.replace('', 0)\r\n",
                "df_weather.Average_Wind_Speed_Mean = df_weather.Average_Wind_Speed_Mean.replace('', 0)\r\n",
                "df_weather.Wind_Direction_Mean = df_weather.Wind_Direction_Mean.replace('', 0)\r\n",
                "df_weather.Wind_Gust_Mean = df_weather.Wind_Gust_Mean.replace('', 0)\r\n",
                "df_weather.Wind_Gust_Direction_Mean = df_weather.Wind_Gust_Direction_Mean.replace('', 0)\r\n",
                "\r\n",
                "# Sort the Weather DF by RadarID and Date\r\n",
                "df_weather = df_weather.sort_values(by=['RadarID', 'Date']).reset_index()\r\n",
                "df_weather = df_weather.drop('index', 1)\r\n",
                "\r\n",
                "# Create a GroupBy df\r\n",
                "id_grp = df_weather.groupby(['RadarID'])\r\n",
                "id_grp.head(15)\r\n",
                "\r\n",
                "df_weather_hist = []\r\n",
                "\r\n",
                "for df_grp in id_grp:\r\n",
                "    df_grp[1]['Rain_Intensity_Avg_Last_48hrs'] =   (df_grp[1]['Rain_Intensity_Mean'] +\\\r\n",
                "                                                    df_grp[1]['Rain_Intensity_Mean'].shift().fillna(0) )  / 2\r\n",
                "    df_grp[1]['Rain_Intensity_Avg_Last_96hrs'] =   (df_grp[1]['Rain_Intensity_Mean'] + \\\r\n",
                "                                                    df_grp[1]['Rain_Intensity_Mean'].shift().fillna(0) + \\\r\n",
                "                                                    df_grp[1]['Rain_Intensity_Mean'].shift(2).fillna(0) + \\\r\n",
                "                                                    df_grp[1]['Rain_Intensity_Mean'].shift(3).fillna(0) )  / 4\r\n",
                "    df_grp[1]['Rain_Intensity_Avg_Last_Week']  =   (df_grp[1]['Rain_Intensity_Mean'] + df_grp[1]['Rain_Intensity_Mean'].shift().fillna(0) + \\\r\n",
                "                                                    df_grp[1]['Rain_Intensity_Mean'].shift(2).fillna(0) + df_grp[1]['Rain_Intensity_Mean'].shift(3).fillna(0) + \\\r\n",
                "                                                    df_grp[1]['Rain_Intensity_Mean'].shift(4).fillna(0) + df_grp[1]['Rain_Intensity_Mean'].shift(5).fillna(0) + \\\r\n",
                "                                                    df_grp[1]['Rain_Intensity_Mean'].shift(6).fillna(0) )  / 7\r\n",
                "    df_grp[1]['Rain_Intensity_Avg_Last_2_Weeks'] =  (df_grp[1]['Rain_Intensity_Mean'] + df_grp[1]['Rain_Intensity_Mean'].shift().fillna(0) + \\\r\n",
                "                                                    df_grp[1]['Rain_Intensity_Mean'].shift(2).fillna(0) + df_grp[1]['Rain_Intensity_Mean'].shift(3).fillna(0) + \\\r\n",
                "                                                    df_grp[1]['Rain_Intensity_Mean'].shift(4).fillna(0) + df_grp[1]['Rain_Intensity_Mean'].shift(5).fillna(0) + \\\r\n",
                "                                                    df_grp[1]['Rain_Intensity_Mean'].shift(6).fillna(0) + df_grp[1]['Rain_Intensity_Mean'].shift(7).fillna(0) + \\\r\n",
                "                                                    df_grp[1]['Rain_Intensity_Mean'].shift(8).fillna(0) + df_grp[1]['Rain_Intensity_Mean'].shift(9).fillna(0) + \r\n",
                "                                                    df_grp[1]['Rain_Intensity_Mean'].shift(10).fillna(0) + df_grp[1]['Rain_Intensity_Mean'].shift(11).fillna(0) + \\\r\n",
                "                                                    df_grp[1]['Rain_Intensity_Mean'].shift(12).fillna(0) + df_grp[1]['Rain_Intensity_Mean'].shift(13).fillna(0) )  / 14\r\n",
                "    df_grp[1]['Rain_Intensity_Max_Last_48hrs'] =   (df_grp[1]['Rain_Intensity_Max'] +\\\r\n",
                "                                                    df_grp[1]['Rain_Intensity_Max'].shift().fillna(0) )  / 2\r\n",
                "    df_grp[1]['Rain_Intensity_Max_Last_96hrs'] =   (df_grp[1]['Rain_Intensity_Max'] + \\\r\n",
                "                                                    df_grp[1]['Rain_Intensity_Max'].shift().fillna(0) + \\\r\n",
                "                                                    df_grp[1]['Rain_Intensity_Max'].shift(2).fillna(0) + \\\r\n",
                "                                                    df_grp[1]['Rain_Intensity_Max'].shift(3).fillna(0) )  / 4\r\n",
                "    df_grp[1]['Rain_Intensity_Max_Last_Week']  =   (df_grp[1]['Rain_Intensity_Max'] + df_grp[1]['Rain_Intensity_Max'].shift().fillna(0) + \\\r\n",
                "                                                    df_grp[1]['Rain_Intensity_Max'].shift(2).fillna(0) + df_grp[1]['Rain_Intensity_Max'].shift(3).fillna(0) + \\\r\n",
                "                                                    df_grp[1]['Rain_Intensity_Max'].shift(4).fillna(0) + df_grp[1]['Rain_Intensity_Max'].shift(5).fillna(0) + \\\r\n",
                "                                                    df_grp[1]['Rain_Intensity_Max'].shift(6).fillna(0) )  / 7\r\n",
                "    df_grp[1]['Rain_Intensity_Max_Last_2_Weeks'] =  (df_grp[1]['Rain_Intensity_Max'] + df_grp[1]['Rain_Intensity_Max'].shift().fillna(0) + \\\r\n",
                "                                                    df_grp[1]['Rain_Intensity_Max'].shift(2).fillna(0) + df_grp[1]['Rain_Intensity_Max'].shift(3).fillna(0) + \\\r\n",
                "                                                    df_grp[1]['Rain_Intensity_Max'].shift(4).fillna(0) + df_grp[1]['Rain_Intensity_Max'].shift(5).fillna(0) + \\\r\n",
                "                                                    df_grp[1]['Rain_Intensity_Max'].shift(6).fillna(0) + df_grp[1]['Rain_Intensity_Max'].shift(7).fillna(0) + \\\r\n",
                "                                                    df_grp[1]['Rain_Intensity_Max'].shift(8).fillna(0) + df_grp[1]['Rain_Intensity_Max'].shift(9).fillna(0) + \r\n",
                "                                                    df_grp[1]['Rain_Intensity_Max'].shift(10).fillna(0) + df_grp[1]['Rain_Intensity_Max'].shift(11).fillna(0) + \\\r\n",
                "                                                    df_grp[1]['Rain_Intensity_Max'].shift(12).fillna(0) + df_grp[1]['Rain_Intensity_Max'].shift(13).fillna(0) )  / 14  \r\n",
                "    df_grp[1]['Wind_Speed_Mean_Last_48hrs'] =   (df_grp[1]['Average_Wind_Speed_Mean'] +\\\r\n",
                "                                                    df_grp[1]['Average_Wind_Speed_Mean'].shift().fillna(0) )  / 2\r\n",
                "    df_grp[1]['Wind_Speed_Mean_Last_96hrs'] =   (df_grp[1]['Average_Wind_Speed_Mean'] + \\\r\n",
                "                                                    df_grp[1]['Average_Wind_Speed_Mean'].shift().fillna(0) + \\\r\n",
                "                                                    df_grp[1]['Average_Wind_Speed_Mean'].shift(2).fillna(0) + \\\r\n",
                "                                                    df_grp[1]['Average_Wind_Speed_Mean'].shift(3).fillna(0) )  / 4\r\n",
                "    df_grp[1]['Wind_Speed_Mean_Last_Week']  =   (df_grp[1]['Average_Wind_Speed_Mean'] + df_grp[1]['Average_Wind_Speed_Mean'].shift().fillna(0) + \\\r\n",
                "                                                    df_grp[1]['Average_Wind_Speed_Mean'].shift(2).fillna(0) + df_grp[1]['Average_Wind_Speed_Mean'].shift(3).fillna(0) + \\\r\n",
                "                                                    df_grp[1]['Average_Wind_Speed_Mean'].shift(4).fillna(0) + df_grp[1]['Average_Wind_Speed_Mean'].shift(5).fillna(0) + \\\r\n",
                "                                                    df_grp[1]['Average_Wind_Speed_Mean'].shift(6).fillna(0) )  / 7\r\n",
                "    df_grp[1]['Wind_Speed_Mean_Last_2_Weeks'] =  (df_grp[1]['Average_Wind_Speed_Mean'] + df_grp[1]['Average_Wind_Speed_Mean'].shift().fillna(0) + \\\r\n",
                "                                                    df_grp[1]['Average_Wind_Speed_Mean'].shift(2).fillna(0) + df_grp[1]['Average_Wind_Speed_Mean'].shift(3).fillna(0) + \\\r\n",
                "                                                    df_grp[1]['Average_Wind_Speed_Mean'].shift(4).fillna(0) + df_grp[1]['Average_Wind_Speed_Mean'].shift(5).fillna(0) + \\\r\n",
                "                                                    df_grp[1]['Average_Wind_Speed_Mean'].shift(6).fillna(0) + df_grp[1]['Average_Wind_Speed_Mean'].shift(7).fillna(0) + \\\r\n",
                "                                                    df_grp[1]['Average_Wind_Speed_Mean'].shift(8).fillna(0) + df_grp[1]['Average_Wind_Speed_Mean'].shift(9).fillna(0) + \r\n",
                "                                                    df_grp[1]['Average_Wind_Speed_Mean'].shift(10).fillna(0) + df_grp[1]['Average_Wind_Speed_Mean'].shift(11).fillna(0) + \\\r\n",
                "                                                    df_grp[1]['Average_Wind_Speed_Mean'].shift(12).fillna(0) + df_grp[1]['Average_Wind_Speed_Mean'].shift(13).fillna(0) )  / 14  \r\n",
                "    df_grp[1]['Wind_Direction_Mean_Last_48hrs'] =   (df_grp[1]['Wind_Direction_Mean'] +\\\r\n",
                "                                                    df_grp[1]['Wind_Direction_Mean'].shift().fillna(0) )  / 2\r\n",
                "    df_grp[1]['Wind_Direction_Mean_Last_96hrs'] =   (df_grp[1]['Wind_Direction_Mean'] + \\\r\n",
                "                                                    df_grp[1]['Wind_Direction_Mean'].shift().fillna(0) + \\\r\n",
                "                                                    df_grp[1]['Wind_Direction_Mean'].shift(2).fillna(0) + \\\r\n",
                "                                                    df_grp[1]['Wind_Direction_Mean'].shift(3).fillna(0) )  / 4\r\n",
                "    df_grp[1]['Wind_Direction_Mean_Last_Week']  =   (df_grp[1]['Wind_Direction_Mean'] + df_grp[1]['Wind_Direction_Mean'].shift().fillna(0) + \\\r\n",
                "                                                    df_grp[1]['Wind_Direction_Mean'].shift(2).fillna(0) + df_grp[1]['Wind_Direction_Mean'].shift(3).fillna(0) + \\\r\n",
                "                                                    df_grp[1]['Wind_Direction_Mean'].shift(4).fillna(0) + df_grp[1]['Wind_Direction_Mean'].shift(5).fillna(0) + \\\r\n",
                "                                                    df_grp[1]['Wind_Direction_Mean'].shift(6).fillna(0) )  / 7\r\n",
                "    df_grp[1]['Wind_Direction_Mean_Last_2_Weeks'] =  (df_grp[1]['Wind_Direction_Mean'] + df_grp[1]['Wind_Direction_Mean'].shift().fillna(0) + \\\r\n",
                "                                                    df_grp[1]['Wind_Direction_Mean'].shift(2).fillna(0) + df_grp[1]['Wind_Direction_Mean'].shift(3).fillna(0) + \\\r\n",
                "                                                    df_grp[1]['Wind_Direction_Mean'].shift(4).fillna(0) + df_grp[1]['Wind_Direction_Mean'].shift(5).fillna(0) + \\\r\n",
                "                                                    df_grp[1]['Wind_Direction_Mean'].shift(6).fillna(0) + df_grp[1]['Wind_Direction_Mean'].shift(7).fillna(0) + \\\r\n",
                "                                                    df_grp[1]['Wind_Direction_Mean'].shift(8).fillna(0) + df_grp[1]['Wind_Direction_Mean'].shift(9).fillna(0) + \r\n",
                "                                                    df_grp[1]['Wind_Direction_Mean'].shift(10).fillna(0) + df_grp[1]['Wind_Direction_Mean'].shift(11).fillna(0) + \\\r\n",
                "                                                    df_grp[1]['Wind_Direction_Mean'].shift(12).fillna(0) + df_grp[1]['Wind_Direction_Mean'].shift(13).fillna(0) )  / 14  \r\n",
                "    df_grp[1]['Wind_Gust_Mean_Last_48hrs'] =   (df_grp[1]['Wind_Gust_Mean'] +\\\r\n",
                "                                                    df_grp[1]['Wind_Gust_Mean'].shift().fillna(0) )  / 2\r\n",
                "    df_grp[1]['Wind_Gust_Mean_Last_96hrs'] =   (df_grp[1]['Wind_Gust_Mean'] + \\\r\n",
                "                                                    df_grp[1]['Wind_Gust_Mean'].shift().fillna(0) + \\\r\n",
                "                                                    df_grp[1]['Wind_Gust_Mean'].shift(2).fillna(0) + \\\r\n",
                "                                                    df_grp[1]['Wind_Gust_Mean'].shift(3).fillna(0) )  / 4\r\n",
                "    df_grp[1]['Wind_Gust_Mean_Last_Week']  =   (df_grp[1]['Wind_Gust_Mean'] + df_grp[1]['Wind_Gust_Mean'].shift().fillna(0) + \\\r\n",
                "                                                    df_grp[1]['Wind_Gust_Mean'].shift(2).fillna(0) + df_grp[1]['Wind_Gust_Mean'].shift(3).fillna(0) + \\\r\n",
                "                                                    df_grp[1]['Wind_Gust_Mean'].shift(4).fillna(0) + df_grp[1]['Wind_Gust_Mean'].shift(5).fillna(0) + \\\r\n",
                "                                                    df_grp[1]['Wind_Gust_Mean'].shift(6).fillna(0) )  / 7\r\n",
                "    df_grp[1]['Wind_Gust_Mean_Last_2_Weeks'] =  (df_grp[1]['Wind_Gust_Mean'] + df_grp[1]['Wind_Gust_Mean'].shift().fillna(0) + \\\r\n",
                "                                                    df_grp[1]['Wind_Gust_Mean'].shift(2).fillna(0) + df_grp[1]['Wind_Gust_Mean'].shift(3).fillna(0) + \\\r\n",
                "                                                    df_grp[1]['Wind_Gust_Mean'].shift(4).fillna(0) + df_grp[1]['Wind_Gust_Mean'].shift(5).fillna(0) + \\\r\n",
                "                                                    df_grp[1]['Wind_Gust_Mean'].shift(6).fillna(0) + df_grp[1]['Wind_Gust_Mean'].shift(7).fillna(0) + \\\r\n",
                "                                                    df_grp[1]['Wind_Gust_Mean'].shift(8).fillna(0) + df_grp[1]['Wind_Gust_Mean'].shift(9).fillna(0) + \r\n",
                "                                                    df_grp[1]['Wind_Gust_Mean'].shift(10).fillna(0) + df_grp[1]['Wind_Gust_Mean'].shift(11).fillna(0) + \\\r\n",
                "                                                    df_grp[1]['Wind_Gust_Mean'].shift(12).fillna(0) + df_grp[1]['Wind_Gust_Mean'].shift(13).fillna(0) )  / 14  \r\n",
                "    df_grp[1]['Wind_Gust_Direction_Mean_Last_48hrs'] =   (df_grp[1]['Wind_Gust_Direction_Mean'] +\\\r\n",
                "                                                        df_grp[1]['Wind_Gust_Direction_Mean'].shift().fillna(0) )  / 2\r\n",
                "    df_grp[1]['Wind_Gust_Direction_Mean_Last_96hrs'] =   (df_grp[1]['Wind_Gust_Direction_Mean'] + \\\r\n",
                "                                                    df_grp[1]['Wind_Gust_Direction_Mean'].shift().fillna(0) + \\\r\n",
                "                                                    df_grp[1]['Wind_Gust_Direction_Mean'].shift(2).fillna(0) + \\\r\n",
                "                                                    df_grp[1]['Wind_Gust_Direction_Mean'].shift(3).fillna(0) )  / 4\r\n",
                "    df_grp[1]['Wind_Gust_Direction_Mean_Last_Week']  =   (df_grp[1]['Wind_Gust_Direction_Mean'] + df_grp[1]['Wind_Gust_Direction_Mean'].shift().fillna(0) + \\\r\n",
                "                                                    df_grp[1]['Wind_Gust_Direction_Mean'].shift(2).fillna(0) + df_grp[1]['Wind_Gust_Direction_Mean'].shift(3).fillna(0) + \\\r\n",
                "                                                    df_grp[1]['Wind_Gust_Direction_Mean'].shift(4).fillna(0) + df_grp[1]['Wind_Gust_Direction_Mean'].shift(5).fillna(0) + \\\r\n",
                "                                                    df_grp[1]['Wind_Gust_Direction_Mean'].shift(6).fillna(0) )  / 7\r\n",
                "    df_grp[1]['Wind_Gust_Direction_Mean_Last_2_Weeks'] =  (df_grp[1]['Wind_Gust_Direction_Mean'] + df_grp[1]['Wind_Gust_Direction_Mean'].shift().fillna(0) + \\\r\n",
                "                                                    df_grp[1]['Wind_Gust_Direction_Mean'].shift(2).fillna(0) + df_grp[1]['Wind_Gust_Direction_Mean'].shift(3).fillna(0) + \\\r\n",
                "                                                    df_grp[1]['Wind_Gust_Direction_Mean'].shift(4).fillna(0) + df_grp[1]['Wind_Gust_Direction_Mean'].shift(5).fillna(0) + \\\r\n",
                "                                                    df_grp[1]['Wind_Gust_Direction_Mean'].shift(6).fillna(0) + df_grp[1]['Wind_Gust_Direction_Mean'].shift(7).fillna(0) + \\\r\n",
                "                                                    df_grp[1]['Wind_Gust_Direction_Mean'].shift(8).fillna(0) + df_grp[1]['Wind_Gust_Direction_Mean'].shift(9).fillna(0) + \r\n",
                "                                                    df_grp[1]['Wind_Gust_Direction_Mean'].shift(10).fillna(0) + df_grp[1]['Wind_Gust_Direction_Mean'].shift(11).fillna(0) + \\\r\n",
                "                                                    df_grp[1]['Wind_Gust_Direction_Mean'].shift(12).fillna(0) + df_grp[1]['Wind_Gust_Direction_Mean'].shift(13).fillna(0) )  / 14                                                                                 \r\n",
                "    df_weather_hist.append(df_grp[1])\r\n",
                "\r\n",
                "df_weather_hist = pd.concat(df_weather_hist)\r\n",
                "\r\n",
                "df_weather_hist['Rain_Intensity_Avg_Last_48hrs'] = df_weather_hist['Rain_Intensity_Avg_Last_48hrs'].round(3)\r\n",
                "df_weather_hist['Rain_Intensity_Avg_Last_96hrs'] = df_weather_hist['Rain_Intensity_Avg_Last_96hrs'].round(3)\r\n",
                "df_weather_hist['Rain_Intensity_Avg_Last_Week'] = df_weather_hist['Rain_Intensity_Avg_Last_Week'].round(3)\r\n",
                "df_weather_hist['Rain_Intensity_Avg_Last_2_Weeks'] = df_weather_hist['Rain_Intensity_Avg_Last_2_Weeks'].round(3)\r\n",
                "\r\n",
                "df_weather_hist['Rain_Intensity_Max_Last_48hrs'] = df_weather_hist['Rain_Intensity_Max_Last_48hrs'].round(3)\r\n",
                "df_weather_hist['Rain_Intensity_Max_Last_96hrs'] = df_weather_hist['Rain_Intensity_Max_Last_96hrs'].round(3)\r\n",
                "df_weather_hist['Rain_Intensity_Max_Last_Week'] = df_weather_hist['Rain_Intensity_Max_Last_Week'].round(3)\r\n",
                "df_weather_hist['Rain_Intensity_Max_Last_2_Weeks'] = df_weather_hist['Rain_Intensity_Max_Last_2_Weeks'].round(3)\r\n",
                "\r\n",
                "df_weather_hist['Wind_Speed_Mean_Last_48hrs'] = df_weather_hist['Wind_Speed_Mean_Last_48hrs'].round(3)\r\n",
                "df_weather_hist['Wind_Speed_Mean_Last_96hrs'] = df_weather_hist['Wind_Speed_Mean_Last_96hrs'].round(3)\r\n",
                "df_weather_hist['Wind_Speed_Mean_Last_Week'] = df_weather_hist['Wind_Speed_Mean_Last_Week'].round(3)\r\n",
                "df_weather_hist['Wind_Speed_Mean_Last_2_Weeks'] = df_weather_hist['Wind_Speed_Mean_Last_2_Weeks'].round(3)\r\n",
                "\r\n",
                "df_weather_hist['Wind_Direction_Mean_Last_48hrs'] = df_weather_hist['Wind_Direction_Mean_Last_48hrs'].round(3)\r\n",
                "df_weather_hist['Wind_Direction_Mean_Last_96hrs'] = df_weather_hist['Wind_Direction_Mean_Last_96hrs'].round(3)\r\n",
                "df_weather_hist['Wind_Direction_Mean_Last_Week'] = df_weather_hist['Wind_Direction_Mean_Last_Week'].round(3)\r\n",
                "df_weather_hist['Wind_Direction_Mean_Last_2_Weeks'] = df_weather_hist['Wind_Direction_Mean_Last_2_Weeks'].round(3)\r\n",
                "\r\n",
                "df_weather_hist['Wind_Gust_Mean_Last_48hrs'] = df_weather_hist['Wind_Gust_Mean_Last_48hrs'].round(3)\r\n",
                "df_weather_hist['Wind_Gust_Mean_Last_96hrs'] = df_weather_hist['Wind_Gust_Mean_Last_96hrs'].round(3)\r\n",
                "df_weather_hist['Wind_Gust_Mean_Last_Week'] = df_weather_hist['Wind_Gust_Mean_Last_Week'].round(3)\r\n",
                "df_weather_hist['Wind_Gust_Mean_Last_2_Weeks'] = df_weather_hist['Wind_Gust_Mean_Last_2_Weeks'].round(3)\r\n",
                "\r\n",
                "df_weather_hist['Wind_Gust_Direction_Mean_Last_48hrs'] = df_weather_hist['Wind_Gust_Direction_Mean_Last_48hrs'].round(3)\r\n",
                "df_weather_hist['Wind_Gust_Direction_Mean_Last_96hrs'] = df_weather_hist['Wind_Gust_Direction_Mean_Last_96hrs'].round(3)\r\n",
                "df_weather_hist['Wind_Gust_Direction_Mean_Last_Week'] = df_weather_hist['Wind_Gust_Direction_Mean_Last_Week'].round(3)\r\n",
                "df_weather_hist['Wind_Gust_Direction_Mean_Last_2_Weeks'] = df_weather_hist['Wind_Gust_Direction_Mean_Last_2_Weeks'].round(3)\r\n",
                "\r\n",
                "df_weather_hist.head(5)"
            ],
            "metadata": {
                "azdata_cell_guid": "41d26ea7-fb0f-4237-b4e7-70946142f914",
                "language": "python"
            },
            "outputs": [
                {
                    "output_type": "execute_result",
                    "execution_count": 11,
                    "data": {
                        "text/plain": "   RadarID       Date Present_Weather_Mean Present_Weather_Median  \\\n0    10000 2018-01-01                94.17                  100.0   \n1    10000 2018-01-02                90.21                  100.0   \n2    10000 2018-01-03                88.47                  100.0   \n3    10000 2018-01-04                77.57                   60.0   \n4    10000 2018-01-05                91.39                  100.0   \n\n  Present_Weather_Min Present_Weather_Max Air_Temp_Mean Air_Temp_Median  \\\n0                50.0               100.0          4.49             4.6   \n1                50.0               100.0          4.14             3.8   \n2                50.0               100.0          5.83             6.4   \n3                50.0               100.0          4.66             4.9   \n4                50.0               100.0          2.98             3.4   \n\n  Air_Temp_Min Air_Temp_Max  ...  Wind_Direction_Mean_Last_Week  \\\n0          1.9          6.4  ...                         35.976   \n1          2.2          6.6  ...                         64.899   \n2          3.2          7.5  ...                        102.710   \n3          3.2          6.1  ...                        131.776   \n4          0.1          4.9  ...                        165.236   \n\n  Wind_Direction_Mean_Last_2_Weeks Wind_Gust_Mean_Last_48hrs  \\\n0                           17.988                     8.600   \n1                           32.449                    17.935   \n2                           51.355                    28.285   \n3                           65.888                    25.110   \n4                           82.618                    14.795   \n\n  Wind_Gust_Mean_Last_96hrs  Wind_Gust_Mean_Last_Week  \\\n0                     4.300                     2.457   \n1                     8.968                     5.124   \n2                    18.442                    10.539   \n3                    21.522                    12.299   \n4                    21.540                    14.766   \n\n  Wind_Gust_Mean_Last_2_Weeks Wind_Gust_Direction_Mean_Last_48hrs  \\\n0                       1.229                             126.410   \n1                       2.562                             256.460   \n2                       5.269                             268.125   \n3                       6.149                             234.825   \n4                       7.383                             163.180   \n\n  Wind_Gust_Direction_Mean_Last_96hrs  Wind_Gust_Direction_Mean_Last_Week  \\\n0                              63.205                              36.117   \n1                             128.230                              73.274   \n2                             197.267                             112.724   \n3                             245.642                             140.367   \n4                             215.652                             159.347   \n\n  Wind_Gust_Direction_Mean_Last_2_Weeks  \n0                                18.059  \n1                                36.637  \n2                                56.362  \n3                                70.184  \n4                                79.674  \n\n[5 rows x 55 columns]",
                        "text/html": "<div>\n<style scoped>\n    .dataframe tbody tr th:only-of-type {\n        vertical-align: middle;\n    }\n\n    .dataframe tbody tr th {\n        vertical-align: top;\n    }\n\n    .dataframe thead th {\n        text-align: right;\n    }\n</style>\n<table border=\"1\" class=\"dataframe\">\n  <thead>\n    <tr style=\"text-align: right;\">\n      <th></th>\n      <th>RadarID</th>\n      <th>Date</th>\n      <th>Present_Weather_Mean</th>\n      <th>Present_Weather_Median</th>\n      <th>Present_Weather_Min</th>\n      <th>Present_Weather_Max</th>\n      <th>Air_Temp_Mean</th>\n      <th>Air_Temp_Median</th>\n      <th>Air_Temp_Min</th>\n      <th>Air_Temp_Max</th>\n      <th>...</th>\n      <th>Wind_Direction_Mean_Last_Week</th>\n      <th>Wind_Direction_Mean_Last_2_Weeks</th>\n      <th>Wind_Gust_Mean_Last_48hrs</th>\n      <th>Wind_Gust_Mean_Last_96hrs</th>\n      <th>Wind_Gust_Mean_Last_Week</th>\n      <th>Wind_Gust_Mean_Last_2_Weeks</th>\n      <th>Wind_Gust_Direction_Mean_Last_48hrs</th>\n      <th>Wind_Gust_Direction_Mean_Last_96hrs</th>\n      <th>Wind_Gust_Direction_Mean_Last_Week</th>\n      <th>Wind_Gust_Direction_Mean_Last_2_Weeks</th>\n    </tr>\n  </thead>\n  <tbody>\n    <tr>\n      <th>0</th>\n      <td>10000</td>\n      <td>2018-01-01</td>\n      <td>94.17</td>\n      <td>100.0</td>\n      <td>50.0</td>\n      <td>100.0</td>\n      <td>4.49</td>\n      <td>4.6</td>\n      <td>1.9</td>\n      <td>6.4</td>\n      <td>...</td>\n      <td>35.976</td>\n      <td>17.988</td>\n      <td>8.600</td>\n      <td>4.300</td>\n      <td>2.457</td>\n      <td>1.229</td>\n      <td>126.410</td>\n      <td>63.205</td>\n      <td>36.117</td>\n      <td>18.059</td>\n    </tr>\n    <tr>\n      <th>1</th>\n      <td>10000</td>\n      <td>2018-01-02</td>\n      <td>90.21</td>\n      <td>100.0</td>\n      <td>50.0</td>\n      <td>100.0</td>\n      <td>4.14</td>\n      <td>3.8</td>\n      <td>2.2</td>\n      <td>6.6</td>\n      <td>...</td>\n      <td>64.899</td>\n      <td>32.449</td>\n      <td>17.935</td>\n      <td>8.968</td>\n      <td>5.124</td>\n      <td>2.562</td>\n      <td>256.460</td>\n      <td>128.230</td>\n      <td>73.274</td>\n      <td>36.637</td>\n    </tr>\n    <tr>\n      <th>2</th>\n      <td>10000</td>\n      <td>2018-01-03</td>\n      <td>88.47</td>\n      <td>100.0</td>\n      <td>50.0</td>\n      <td>100.0</td>\n      <td>5.83</td>\n      <td>6.4</td>\n      <td>3.2</td>\n      <td>7.5</td>\n      <td>...</td>\n      <td>102.710</td>\n      <td>51.355</td>\n      <td>28.285</td>\n      <td>18.442</td>\n      <td>10.539</td>\n      <td>5.269</td>\n      <td>268.125</td>\n      <td>197.267</td>\n      <td>112.724</td>\n      <td>56.362</td>\n    </tr>\n    <tr>\n      <th>3</th>\n      <td>10000</td>\n      <td>2018-01-04</td>\n      <td>77.57</td>\n      <td>60.0</td>\n      <td>50.0</td>\n      <td>100.0</td>\n      <td>4.66</td>\n      <td>4.9</td>\n      <td>3.2</td>\n      <td>6.1</td>\n      <td>...</td>\n      <td>131.776</td>\n      <td>65.888</td>\n      <td>25.110</td>\n      <td>21.522</td>\n      <td>12.299</td>\n      <td>6.149</td>\n      <td>234.825</td>\n      <td>245.642</td>\n      <td>140.367</td>\n      <td>70.184</td>\n    </tr>\n    <tr>\n      <th>4</th>\n      <td>10000</td>\n      <td>2018-01-05</td>\n      <td>91.39</td>\n      <td>100.0</td>\n      <td>50.0</td>\n      <td>100.0</td>\n      <td>2.98</td>\n      <td>3.4</td>\n      <td>0.1</td>\n      <td>4.9</td>\n      <td>...</td>\n      <td>165.236</td>\n      <td>82.618</td>\n      <td>14.795</td>\n      <td>21.540</td>\n      <td>14.766</td>\n      <td>7.383</td>\n      <td>163.180</td>\n      <td>215.652</td>\n      <td>159.347</td>\n      <td>79.674</td>\n    </tr>\n  </tbody>\n</table>\n<p>5 rows × 55 columns</p>\n</div>"
                    },
                    "metadata": {}
                }
            ],
            "execution_count": 11
        },
        {
            "cell_type": "markdown",
            "source": [
                "**5\\. Save all the weather data into a single .csv file**\n",
                "\n",
                "- Save the aggregated weather data as a .csv format"
            ],
            "metadata": {
                "azdata_cell_guid": "4b2cc7e6-0ef0-43b6-9bdb-a9cf551163a6"
            },
            "attachments": {}
        },
        {
            "cell_type": "code",
            "source": [
                "df_weather_hist.to_csv(filepath + 'Weather/Weather_Aggregated.csv') \r\n",
                "\r\n",
                "len(df_weather)"
            ],
            "metadata": {
                "azdata_cell_guid": "9489ba0d-e41c-493f-ad04-bdd9437d1e15",
                "language": "python"
            },
            "outputs": [
                {
                    "output_type": "execute_result",
                    "execution_count": 12,
                    "data": {
                        "text/plain": "188956"
                    },
                    "metadata": {}
                }
            ],
            "execution_count": 12
        }
    ]
}