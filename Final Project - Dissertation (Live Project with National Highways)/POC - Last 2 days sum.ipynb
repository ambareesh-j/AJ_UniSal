{
    "metadata": {
        "kernelspec": {
            "name": "python3",
            "display_name": "Python 3",
            "language": "python"
        },
        "language_info": {
            "name": "python",
            "version": "3.8.10",
            "mimetype": "text/x-python",
            "codemirror_mode": {
                "name": "ipython",
                "version": 3
            },
            "pygments_lexer": "ipython3",
            "nbconvert_exporter": "python",
            "file_extension": ".py"
        }
    },
    "nbformat_minor": 2,
    "nbformat": 4,
    "cells": [
        {
            "cell_type": "code",
            "source": [
                "# Test POC \r\n",
                "import pandas as pd\r\n",
                "\r\n",
                "df_Dates = pd.read_csv (r'C:\\Users\\jonnaa\\Desktop/testPOC.csv')\r\n",
                "df_Dates.head(3)"
            ],
            "metadata": {
                "azdata_cell_guid": "8fae832a-3756-4583-a4f0-588624c28733"
            },
            "outputs": [
                {
                    "output_type": "execute_result",
                    "execution_count": 11,
                    "data": {
                        "text/plain": "  Group        Date  Cash\n0     a  01/01/2020  20.0\n1     b  01/01/2020  25.0\n2     c  01/01/2020  31.0",
                        "text/html": "<div>\n<style scoped>\n    .dataframe tbody tr th:only-of-type {\n        vertical-align: middle;\n    }\n\n    .dataframe tbody tr th {\n        vertical-align: top;\n    }\n\n    .dataframe thead th {\n        text-align: right;\n    }\n</style>\n<table border=\"1\" class=\"dataframe\">\n  <thead>\n    <tr style=\"text-align: right;\">\n      <th></th>\n      <th>Group</th>\n      <th>Date</th>\n      <th>Cash</th>\n    </tr>\n  </thead>\n  <tbody>\n    <tr>\n      <th>0</th>\n      <td>a</td>\n      <td>01/01/2020</td>\n      <td>20.0</td>\n    </tr>\n    <tr>\n      <th>1</th>\n      <td>b</td>\n      <td>01/01/2020</td>\n      <td>25.0</td>\n    </tr>\n    <tr>\n      <th>2</th>\n      <td>c</td>\n      <td>01/01/2020</td>\n      <td>31.0</td>\n    </tr>\n  </tbody>\n</table>\n</div>"
                    },
                    "metadata": {}
                }
            ],
            "execution_count": 11
        },
        {
            "cell_type": "code",
            "source": [
                "df_Dates['Date'] = df_Dates['Date'].astype('datetime64[D]')\r\n",
                "print(df_Dates.dtypes)"
            ],
            "metadata": {
                "azdata_cell_guid": "ec1ded4e-25a0-4e32-bc39-5f1a9b1f6881"
            },
            "outputs": [
                {
                    "output_type": "stream",
                    "name": "stdout",
                    "text": "Group            object\nDate     datetime64[ns]\nCash            float64\ndtype: object\n"
                }
            ],
            "execution_count": 12
        },
        {
            "cell_type": "code",
            "source": [
                "# Import date and timedelta class\r\n",
                "# from datetime module\r\n",
                "from datetime import date\r\n",
                "from datetime import timedelta\r\n",
                "\r\n",
                "df_Dates['Date_1'] = df_Dates['Date'] - timedelta(days = 1)\r\n",
                "df_Dates['Date_2'] = df_Dates['Date'] - timedelta(days = 2)\r\n",
                "\r\n",
                "# # Yesterday date\r\n",
                "# yesterday = today - timedelta(days = 1)\r\n",
                "# print(\"Yesterday was: \", yesterday)"
            ],
            "metadata": {
                "azdata_cell_guid": "e1a05be7-711b-4645-8892-7deb44668f1a"
            },
            "outputs": [],
            "execution_count": 13
        },
        {
            "cell_type": "code",
            "source": [
                "df_Dates.head(3)"
            ],
            "metadata": {
                "azdata_cell_guid": "40fad774-2e70-41a8-8d5a-e9c1110d19fb"
            },
            "outputs": [
                {
                    "output_type": "execute_result",
                    "execution_count": 14,
                    "data": {
                        "text/plain": "  Group       Date  Cash     Date_1     Date_2\n0     a 2020-01-01  20.0 2019-12-31 2019-12-30\n1     b 2020-01-01  25.0 2019-12-31 2019-12-30\n2     c 2020-01-01  31.0 2019-12-31 2019-12-30",
                        "text/html": "<div>\n<style scoped>\n    .dataframe tbody tr th:only-of-type {\n        vertical-align: middle;\n    }\n\n    .dataframe tbody tr th {\n        vertical-align: top;\n    }\n\n    .dataframe thead th {\n        text-align: right;\n    }\n</style>\n<table border=\"1\" class=\"dataframe\">\n  <thead>\n    <tr style=\"text-align: right;\">\n      <th></th>\n      <th>Group</th>\n      <th>Date</th>\n      <th>Cash</th>\n      <th>Date_1</th>\n      <th>Date_2</th>\n    </tr>\n  </thead>\n  <tbody>\n    <tr>\n      <th>0</th>\n      <td>a</td>\n      <td>2020-01-01</td>\n      <td>20.0</td>\n      <td>2019-12-31</td>\n      <td>2019-12-30</td>\n    </tr>\n    <tr>\n      <th>1</th>\n      <td>b</td>\n      <td>2020-01-01</td>\n      <td>25.0</td>\n      <td>2019-12-31</td>\n      <td>2019-12-30</td>\n    </tr>\n    <tr>\n      <th>2</th>\n      <td>c</td>\n      <td>2020-01-01</td>\n      <td>31.0</td>\n      <td>2019-12-31</td>\n      <td>2019-12-30</td>\n    </tr>\n  </tbody>\n</table>\n</div>"
                    },
                    "metadata": {}
                }
            ],
            "execution_count": 14
        },
        {
            "cell_type": "code",
            "source": [
                "import pandas as pd\r\n",
                "\r\n",
                "id_col = ['a','a','a','a','b','b','b','b','c','c','c','c']\r\n",
                "\r\n",
                "date_rng = ['2020-01-01','2020-01-02','2020-01-03','2020-01-04','2020-01-01','2020-01-02','2020-01-03',\\\r\n",
                "    '2020-01-04','2020-01-01','2020-01-02','2020-01-03', '2020-01-04']\r\n",
                "sales = [20,65,31,30,25,15,29, 19,23,5,65,55]\r\n",
                "\r\n",
                "df = pd.DataFrame({'ID':id_col, 'Date':date_rng, 'Sales':sales})\r\n",
                "id_grp = df.groupby(['ID'])\r\n",
                "df_list = []\r\n",
                "\r\n",
                "for df_grp in id_grp:\r\n",
                "    df_grp[1]['Sales in last 2 days'] = df_grp[1]['Sales'] + df_grp[1]['Sales'].shift().fillna(0)\r\n",
                "    df_grp[1]['Sales in last 3 days'] = df_grp[1]['Sales'] + df_grp[1]['Sales'].shift().fillna(0) + df_grp[1]['Sales'].shift(2).fillna(0)\r\n",
                "    df_grp[1]['Max of Sales per ID'] = max(df_grp[1]['Sales'])\r\n",
                "    df_list.append(df_grp[1])\r\n",
                "\r\n",
                "print(pd.concat(df_list))"
            ],
            "metadata": {
                "azdata_cell_guid": "d201e1a7-4f9d-423d-8b5a-5bd5774a8520"
            },
            "outputs": [
                {
                    "name": "stdout",
                    "text": "   ID        Date  Sales  Sales in last 2 days  Sales in last 3 days  \\\n0   a  2020-01-01     20                  20.0                  20.0   \n1   a  2020-01-02     65                  85.0                  85.0   \n2   a  2020-01-03     31                  96.0                 116.0   \n3   a  2020-01-04     30                  61.0                 126.0   \n4   b  2020-01-01     25                  25.0                  25.0   \n5   b  2020-01-02     15                  40.0                  40.0   \n6   b  2020-01-03     29                  44.0                  69.0   \n7   b  2020-01-04     19                  48.0                  63.0   \n8   c  2020-01-01     23                  23.0                  23.0   \n9   c  2020-01-02      5                  28.0                  28.0   \n10  c  2020-01-03     65                  70.0                  93.0   \n11  c  2020-01-04     55                 120.0                 125.0   \n\n    Max of Sales per ID  \n0                    65  \n1                    65  \n2                    65  \n3                    65  \n4                    29  \n5                    29  \n6                    29  \n7                    29  \n8                    65  \n9                    65  \n10                   65  \n11                   65  \n",
                    "output_type": "stream"
                }
            ],
            "execution_count": 8
        },
        {
            "cell_type": "code",
            "source": [
                "id_grp.head(5)"
            ],
            "metadata": {
                "azdata_cell_guid": "6bd96005-8863-4133-b167-cb345cdd69aa"
            },
            "outputs": [
                {
                    "output_type": "execute_result",
                    "execution_count": 8,
                    "data": {
                        "text/plain": "  ID        Date  Sales\n0  a  2020-01-01     20\n1  a  2020-01-02     65\n2  a  2020-01-03     31\n3  b  2020-01-01     25\n4  b  2020-01-02     15\n5  b  2020-01-03     29\n6  c  2020-01-01     23\n7  c  2020-01-02      5\n8  c  2020-01-03     65",
                        "text/html": "<div>\n<style scoped>\n    .dataframe tbody tr th:only-of-type {\n        vertical-align: middle;\n    }\n\n    .dataframe tbody tr th {\n        vertical-align: top;\n    }\n\n    .dataframe thead th {\n        text-align: right;\n    }\n</style>\n<table border=\"1\" class=\"dataframe\">\n  <thead>\n    <tr style=\"text-align: right;\">\n      <th></th>\n      <th>ID</th>\n      <th>Date</th>\n      <th>Sales</th>\n    </tr>\n  </thead>\n  <tbody>\n    <tr>\n      <th>0</th>\n      <td>a</td>\n      <td>2020-01-01</td>\n      <td>20</td>\n    </tr>\n    <tr>\n      <th>1</th>\n      <td>a</td>\n      <td>2020-01-02</td>\n      <td>65</td>\n    </tr>\n    <tr>\n      <th>2</th>\n      <td>a</td>\n      <td>2020-01-03</td>\n      <td>31</td>\n    </tr>\n    <tr>\n      <th>3</th>\n      <td>b</td>\n      <td>2020-01-01</td>\n      <td>25</td>\n    </tr>\n    <tr>\n      <th>4</th>\n      <td>b</td>\n      <td>2020-01-02</td>\n      <td>15</td>\n    </tr>\n    <tr>\n      <th>5</th>\n      <td>b</td>\n      <td>2020-01-03</td>\n      <td>29</td>\n    </tr>\n    <tr>\n      <th>6</th>\n      <td>c</td>\n      <td>2020-01-01</td>\n      <td>23</td>\n    </tr>\n    <tr>\n      <th>7</th>\n      <td>c</td>\n      <td>2020-01-02</td>\n      <td>5</td>\n    </tr>\n    <tr>\n      <th>8</th>\n      <td>c</td>\n      <td>2020-01-03</td>\n      <td>65</td>\n    </tr>\n  </tbody>\n</table>\n</div>"
                    },
                    "metadata": {}
                }
            ],
            "execution_count": 8
        }
    ]
}