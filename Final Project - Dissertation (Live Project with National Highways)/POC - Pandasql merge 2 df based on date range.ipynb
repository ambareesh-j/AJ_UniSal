{
    "metadata": {
        "kernelspec": {
            "name": "python3",
            "display_name": "Python 3",
            "language": "python"
        },
        "language_info": {
            "name": "python",
            "version": "3.8.10",
            "mimetype": "text/x-python",
            "codemirror_mode": {
                "name": "ipython",
                "version": 3
            },
            "pygments_lexer": "ipython3",
            "nbconvert_exporter": "python",
            "file_extension": ".py"
        }
    },
    "nbformat_minor": 2,
    "nbformat": 4,
    "cells": [
        {
            "cell_type": "code",
            "source": [
                "import pandas as pd\r\n",
                "\r\n",
                "# Import Floods data\r\n",
                "df_floods = pd.read_csv(r'C:\\Users\\jonnaa\\OneDrive - Highways England\\Desktop\\Datasets\\Test/poc_floods.csv')       # Dt\r\n",
                "\r\n",
                "# Import Jobs data\r\n",
                "df_jobs = pd.read_csv(r'C:\\Users\\jonnaa\\OneDrive - Highways England\\Desktop\\Datasets\\Test/poc_jobs.csv')       # Dt"
            ],
            "metadata": {
                "azdata_cell_guid": "a4095fa1-ab6e-4a1d-b3ff-a21299a1595b"
            },
            "outputs": [],
            "execution_count": 1
        },
        {
            "cell_type": "code",
            "source": [
                "df_floods"
            ],
            "metadata": {
                "azdata_cell_guid": "712527bf-10e6-4b30-85cb-3569adb0c2bc"
            },
            "outputs": [
                {
                    "data": {
                        "text/plain": "  Flood       date  date2week\n0    A1 2022-04-21 2022-05-05\n1    Q2 2022-05-22 2022-06-05\n2    Q3 2022-04-23 2022-05-07\n3    R4 2022-04-24 2022-05-08",
                        "text/html": "<div>\n<style scoped>\n    .dataframe tbody tr th:only-of-type {\n        vertical-align: middle;\n    }\n\n    .dataframe tbody tr th {\n        vertical-align: top;\n    }\n\n    .dataframe thead th {\n        text-align: right;\n    }\n</style>\n<table border=\"1\" class=\"dataframe\">\n  <thead>\n    <tr style=\"text-align: right;\">\n      <th></th>\n      <th>Flood</th>\n      <th>date</th>\n      <th>date2week</th>\n    </tr>\n  </thead>\n  <tbody>\n    <tr>\n      <th>0</th>\n      <td>A1</td>\n      <td>2022-04-21</td>\n      <td>2022-05-05</td>\n    </tr>\n    <tr>\n      <th>1</th>\n      <td>Q2</td>\n      <td>2022-05-22</td>\n      <td>2022-06-05</td>\n    </tr>\n    <tr>\n      <th>2</th>\n      <td>Q3</td>\n      <td>2022-04-23</td>\n      <td>2022-05-07</td>\n    </tr>\n    <tr>\n      <th>3</th>\n      <td>R4</td>\n      <td>2022-04-24</td>\n      <td>2022-05-08</td>\n    </tr>\n  </tbody>\n</table>\n</div>"
                    },
                    "metadata": {},
                    "execution_count": 19,
                    "output_type": "execute_result"
                }
            ],
            "execution_count": 19
        },
        {
            "cell_type": "code",
            "source": [
                "from datetime import datetime\r\n",
                "\r\n",
                "df_floods['date'] = pd.to_datetime(df_floods['date'])\r\n",
                "df_jobs['date'] = pd.to_datetime(df_jobs['date'])\r\n",
                "\r\n",
                "df_floods['date2week'] = df_floods['date'] + pd.DateOffset(days=14)\r\n",
                "\r\n",
                "df_floods.dtypes"
            ],
            "metadata": {
                "azdata_cell_guid": "b78535e3-bfe3-46d0-8c48-931593f3d170"
            },
            "outputs": [
                {
                    "data": {
                        "text/plain": "Flood                object\ndate         datetime64[ns]\ndate2week    datetime64[ns]\ndtype: object"
                    },
                    "metadata": {},
                    "execution_count": 18,
                    "output_type": "execute_result"
                }
            ],
            "execution_count": 18
        },
        {
            "cell_type": "code",
            "source": [
                "df_jobs"
            ],
            "metadata": {
                "azdata_cell_guid": "5299dad6-d994-4b05-9a25-e40ac3a0e7fb"
            },
            "outputs": [
                {
                    "data": {
                        "text/plain": "  Jobs       date\n0   J1 2022-04-30\n1   J2 2022-01-05\n2   J3 2022-02-05\n3   J4 2022-03-05",
                        "text/html": "<div>\n<style scoped>\n    .dataframe tbody tr th:only-of-type {\n        vertical-align: middle;\n    }\n\n    .dataframe tbody tr th {\n        vertical-align: top;\n    }\n\n    .dataframe thead th {\n        text-align: right;\n    }\n</style>\n<table border=\"1\" class=\"dataframe\">\n  <thead>\n    <tr style=\"text-align: right;\">\n      <th></th>\n      <th>Jobs</th>\n      <th>date</th>\n    </tr>\n  </thead>\n  <tbody>\n    <tr>\n      <th>0</th>\n      <td>J1</td>\n      <td>2022-04-30</td>\n    </tr>\n    <tr>\n      <th>1</th>\n      <td>J2</td>\n      <td>2022-01-05</td>\n    </tr>\n    <tr>\n      <th>2</th>\n      <td>J3</td>\n      <td>2022-02-05</td>\n    </tr>\n    <tr>\n      <th>3</th>\n      <td>J4</td>\n      <td>2022-03-05</td>\n    </tr>\n  </tbody>\n</table>\n</div>"
                    },
                    "metadata": {},
                    "execution_count": 17,
                    "output_type": "execute_result"
                }
            ],
            "execution_count": 17
        },
        {
            "cell_type": "code",
            "source": [
                "import pandasql as ps\r\n",
                "\r\n",
                "sqlcode = '''\r\n",
                "select *\r\n",
                "from df_jobs\r\n",
                "left join df_floods on 1=1\r\n",
                "where df_jobs.date >= df_floods.date and df_jobs.date <= df_floods.date2week\r\n",
                "'''\r\n",
                "\r\n",
                "# left join df_jobs on df_jobs.cusip=B.ncusip\r\n",
                "# group by A.cusip\r\n",
                "\r\n",
                "newdf = ps.sqldf(sqlcode,locals())\r\n",
                "newdf"
            ],
            "metadata": {
                "azdata_cell_guid": "ee881ee3-95f1-4f8c-b7e2-81678f8d70a8"
            },
            "outputs": [
                {
                    "data": {
                        "text/plain": "  Jobs                        date Flood                        date  \\\n0   J1  2022-04-30 00:00:00.000000    A1  2022-04-21 00:00:00.000000   \n1   J1  2022-04-30 00:00:00.000000    Q3  2022-04-23 00:00:00.000000   \n2   J1  2022-04-30 00:00:00.000000    R4  2022-04-24 00:00:00.000000   \n\n                    date2week  \n0  2022-05-05 00:00:00.000000  \n1  2022-05-07 00:00:00.000000  \n2  2022-05-08 00:00:00.000000  ",
                        "text/html": "<div>\n<style scoped>\n    .dataframe tbody tr th:only-of-type {\n        vertical-align: middle;\n    }\n\n    .dataframe tbody tr th {\n        vertical-align: top;\n    }\n\n    .dataframe thead th {\n        text-align: right;\n    }\n</style>\n<table border=\"1\" class=\"dataframe\">\n  <thead>\n    <tr style=\"text-align: right;\">\n      <th></th>\n      <th>Jobs</th>\n      <th>date</th>\n      <th>Flood</th>\n      <th>date</th>\n      <th>date2week</th>\n    </tr>\n  </thead>\n  <tbody>\n    <tr>\n      <th>0</th>\n      <td>J1</td>\n      <td>2022-04-30 00:00:00.000000</td>\n      <td>A1</td>\n      <td>2022-04-21 00:00:00.000000</td>\n      <td>2022-05-05 00:00:00.000000</td>\n    </tr>\n    <tr>\n      <th>1</th>\n      <td>J1</td>\n      <td>2022-04-30 00:00:00.000000</td>\n      <td>Q3</td>\n      <td>2022-04-23 00:00:00.000000</td>\n      <td>2022-05-07 00:00:00.000000</td>\n    </tr>\n    <tr>\n      <th>2</th>\n      <td>J1</td>\n      <td>2022-04-30 00:00:00.000000</td>\n      <td>R4</td>\n      <td>2022-04-24 00:00:00.000000</td>\n      <td>2022-05-08 00:00:00.000000</td>\n    </tr>\n  </tbody>\n</table>\n</div>"
                    },
                    "metadata": {},
                    "execution_count": 21,
                    "output_type": "execute_result"
                }
            ],
            "execution_count": 21
        }
    ]
}