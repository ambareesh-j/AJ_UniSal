{
    "metadata": {
        "kernelspec": {
            "name": "python3",
            "display_name": "Python 3",
            "language": "python"
        },
        "language_info": {
            "name": "python",
            "version": "3.8.10",
            "mimetype": "text/x-python",
            "codemirror_mode": {
                "name": "ipython",
                "version": 3
            },
            "pygments_lexer": "ipython3",
            "nbconvert_exporter": "python",
            "file_extension": ".py"
        }
    },
    "nbformat_minor": 2,
    "nbformat": 4,
    "cells": [
        {
            "cell_type": "code",
            "source": [
                "def dist_between_two_lat_lon(*args):\r\n",
                "    from math import asin, cos, radians, sin, sqrt\r\n",
                "    lat1, lat2, long1, long2 = map(radians, args)\r\n",
                "\r\n",
                "    dist_lats = abs(lat2 - lat1) \r\n",
                "    dist_longs = abs(long2 - long1) \r\n",
                "    a = sin(dist_lats/2)**2 + cos(lat1) * cos(lat2) * sin(dist_longs/2)**2\r\n",
                "    c = asin(sqrt(a)) * 2\r\n",
                "    radius_earth = 6371 # the \"Earth radius\" R varies from 6356.752 km at the poles to 6378.137 km at the equator.\r\n",
                "    return c * radius_earth\r\n",
                "\r\n",
                "def find_closest_lat_lon(data, v):\r\n",
                "    try:\r\n",
                "        return min(data, key=lambda p: dist_between_two_lat_lon(v['lat'],p['lat'],v['lon'],p['lon']))\r\n",
                "    except TypeError:\r\n",
                "        print('Not a list or not a number.')\r\n",
                "    \r\n",
                "# city = {'lat_key': value, 'lon_key': value}  # type:dict()\r\n",
                "MCR = {'lat': 53.4723679, 'lon': -2.3635473}\r\n",
                "LDN = {'lat': 51.5287352,  'lon': -0.3817862}\r\n",
                "BRM = {'lat': 52.477564, 'lon': -2.0037162}\r\n",
                "NWC = {'lat': 52.6402265, 'lon': 1.2168094}\r\n",
                "\r\n",
                "city_list = [MCR, LDN, BRM, NWC]\r\n",
                "\r\n",
                "city_to_find = {'lat': 50.913908, 'lon': -1.4705331}  # Southampton\r\n",
                "print(find_closest_lat_lon(city_list, city_to_find))\r\n",
                "\r\n",
                "city_to_find = {'lat': 52.6361606, 'lon': -1.2011403}  # Leicester\r\n",
                "print(find_closest_lat_lon(city_list, city_to_find))"
            ],
            "metadata": {
                "azdata_cell_guid": "f9a287ab-b8ff-4c06-ab1d-8fbf0010f360"
            },
            "outputs": [
                {
                    "name": "stdout",
                    "text": "{'lat': 51.5287352, 'lon': -0.3817862}\n{'lat': 52.477564, 'lon': -2.0037162}\n",
                    "output_type": "stream"
                }
            ],
            "execution_count": 14
        },
        {
            "cell_type": "code",
            "source": [
                ""
            ],
            "metadata": {
                "azdata_cell_guid": "8bb4fa82-f3dd-4ea0-babf-23ef21f1da38"
            },
            "outputs": [
                {
                    "traceback": [
                        "\u001b[1;31m---------------------------------------------------------------------------\u001b[0m",
                        "\u001b[1;31mAttributeError\u001b[0m                            Traceback (most recent call last)",
                        "Input \u001b[1;32mIn [16]\u001b[0m, in \u001b[0;36m<module>\u001b[1;34m\u001b[0m\n\u001b[1;32m----> 1\u001b[0m city_dict \u001b[38;5;241m=\u001b[39m \u001b[43mcity_list\u001b[49m\u001b[38;5;241;43m.\u001b[39;49m\u001b[43mto_dict\u001b[49m()\n\u001b[0;32m      2\u001b[0m city_dict\n",
                        "\u001b[1;31mAttributeError\u001b[0m: 'list' object has no attribute 'to_dict'"
                    ],
                    "ename": "AttributeError",
                    "evalue": "'list' object has no attribute 'to_dict'",
                    "output_type": "error"
                }
            ],
            "execution_count": 16
        },
        {
            "cell_type": "code",
            "source": [
                "import pandas as pd\r\n",
                "\r\n",
                "# Create mock dataframe\r\n",
                "df = pd.DataFrame([\r\n",
                "    [20, 30,  'String1'],\r\n",
                "    [21, 31,  'String2'],\r\n",
                "    [22, 32, 'String3'],\r\n",
                "], columns=['Col A', 'Col B', 'Col C'])\r\n",
                "\r\n",
                "df2 = {'String1':[10,20], 'String2':[30,35], 'String3':[40,43]}\r\n",
                "\r\n",
                "\r\n",
                "# asset ID : { lat , long }\r\n",
                "\r\n",
                "df2"
            ],
            "metadata": {
                "azdata_cell_guid": "00e5d9f7-3e34-4a2d-8fde-7c5710626224"
            },
            "outputs": [
                {
                    "data": {
                        "text/plain": "dict"
                    },
                    "metadata": {},
                    "execution_count": 13,
                    "output_type": "execute_result"
                }
            ],
            "execution_count": 13
        }
    ]
}